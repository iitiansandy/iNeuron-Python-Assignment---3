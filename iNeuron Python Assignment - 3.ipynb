{
 "cells": [
  {
   "cell_type": "markdown",
   "metadata": {},
   "source": [
    "# iNeuron Python Assignment - 3"
   ]
  },
  {
   "cell_type": "markdown",
   "metadata": {},
   "source": [
    "Q 1.1 Write a Python Program to implement your own myreduce() function which works exactly\n",
    "like Python's built-in function reduce()"
   ]
  },
  {
   "cell_type": "code",
   "execution_count": 14,
   "metadata": {},
   "outputs": [
    {
     "name": "stdout",
     "output_type": "stream",
     "text": [
      "Input:\n",
      "Please enter the number: 10\n",
      "Output:\n",
      "List of First n natural numbers are:  [1, 2, 3, 4, 5, 6, 7, 8, 9, 10]\n",
      "Sum of List elements are:  55\n"
     ]
    }
   ],
   "source": [
    "\n",
    "def myreduce(num):\n",
    "    '''This function will return sum of n natural numbers'''\n",
    "    \n",
    "    num_list = list(range(1,number+1))\n",
    "    \n",
    "    sum_of_elements = 0\n",
    "    \n",
    "    for i in num_list:\n",
    "        \n",
    "        sum_of_elements+=i\n",
    "        \n",
    "    return num_list,sum_of_elements\n",
    "\n",
    "#Input\n",
    "\n",
    "print(\"Input:\")\n",
    "\n",
    "number = int(input(\"Please enter the number: \"))\n",
    "\n",
    "#Function Execution\n",
    "\n",
    "output_value = myreduce(number)\n",
    "\n",
    "#Output\n",
    "print(\"Output:\")\n",
    "print(\"List of First n natural numbers are: \", output_value[0])\n",
    "print(\"Sum of List elements are: \", output_value[1])\n"
   ]
  },
  {
   "cell_type": "code",
   "execution_count": 2,
   "metadata": {},
   "outputs": [
    {
     "name": "stdout",
     "output_type": "stream",
     "text": [
      "Input:\n",
      "Enter the number: 10\n",
      "Output:\n",
      "List of first n natural number are:  [1, 2, 3, 4, 5, 6, 7, 8, 9, 10]\n",
      "Sum of list elements are:  55\n"
     ]
    }
   ],
   "source": [
    "# Same solution can be get by Python's Built-in reduce() function\n",
    "\n",
    "print(\"Input:\")\n",
    "\n",
    "number = int(input(\"Enter the number: \"))\n",
    "\n",
    "num_list = list(range(1,(number+1)))\n",
    "\n",
    "#Import reduce function\n",
    "from functools import reduce\n",
    "\n",
    "sum_of_elements = reduce((lambda x, y: x + y), num_list)\n",
    "\n",
    "#Output\n",
    "print(\"Output:\")\n",
    "print(\"List of first n natural number are: \",num_list)\n",
    "print(\"Sum of list elements are: \",sum_of_elements)\n"
   ]
  },
  {
   "cell_type": "code",
   "execution_count": null,
   "metadata": {},
   "outputs": [],
   "source": []
  },
  {
   "cell_type": "markdown",
   "metadata": {},
   "source": [
    "Q1.2 Write a Python program to implement your own myfilter() function which works exactly like Python's built-in function filter()"
   ]
  },
  {
   "cell_type": "code",
   "execution_count": 5,
   "metadata": {},
   "outputs": [
    {
     "name": "stdout",
     "output_type": "stream",
     "text": [
      "Input:\n",
      "Enter the number: 50\n",
      "Output:\n",
      "List of numbers:  [1, 2, 3, 4, 5, 6, 7, 8, 9, 10, 11, 12, 13, 14, 15, 16, 17, 18, 19, 20, 21, 22, 23, 24, 25, 26, 27, 28, 29, 30, 31, 32, 33, 34, 35, 36, 37, 38, 39, 40, 41, 42, 43, 44, 45, 46, 47, 48, 49, 50]\n",
      "List of even numbers which are multiples of 5 are:  [10, 20, 30, 40, 50]\n",
      "List of odd numbers which are multiples of 5 are:  [5, 15, 25, 35, 45]\n"
     ]
    }
   ],
   "source": [
    "# Filter the even and odd number from list which are multiples of 5\n",
    "#Input\n",
    "\n",
    "print(\"Input:\")\n",
    "\n",
    "number = int(input(\"Enter the number: \"))\n",
    "\n",
    "num_list = list(range(1,number+1))\n",
    "\n",
    "def myfilter(num_list):\n",
    "    num_even_list = []\n",
    "    num_odd_list = []\n",
    "    \n",
    "    for i in num_list:\n",
    "        if(i%5 == 0):\n",
    "            if (i%2 == 0):\n",
    "                num_even_list.append(i)\n",
    "            else:\n",
    "                num_odd_list.append(i)\n",
    "                \n",
    "    return num_even_list,num_odd_list\n",
    "\n",
    "#Function Execution\n",
    "output_value = myfilter(num_list)\n",
    "\n",
    "#Output\n",
    "\n",
    "print(\"Output:\")\n",
    "print(\"List of numbers: \",num_list)\n",
    "print(\"List of even numbers which are multiples of 5 are: \",output_value[0])\n",
    "print(\"List of odd numbers which are multiples of 5 are: \",output_value[1])\n"
   ]
  },
  {
   "cell_type": "code",
   "execution_count": 8,
   "metadata": {},
   "outputs": [
    {
     "name": "stdout",
     "output_type": "stream",
     "text": [
      "Input:\n",
      "Enter the number: 50\n",
      "Output:\n",
      "List of numbers:  [1, 2, 3, 4, 5, 6, 7, 8, 9, 10, 11, 12, 13, 14, 15, 16, 17, 18, 19, 20, 21, 22, 23, 24, 25, 26, 27, 28, 29, 30, 31, 32, 33, 34, 35, 36, 37, 38, 39, 40, 41, 42, 43, 44, 45, 46, 47, 48, 49, 50]\n",
      "List of even numbers which are multiples of 5 are:  [10, 20, 30, 40, 50]\n",
      "List of odd numbers which are multiples of 5 are:  [5, 15, 25, 35, 45]\n"
     ]
    }
   ],
   "source": [
    "# Same solution can be approached by built-in filter() function\n",
    "\n",
    "# Input\n",
    "\n",
    "print(\"Input:\")\n",
    "number = int(input(\"Enter the number: \"))\n",
    "\n",
    "num_list = list(range(1, number+1))\n",
    "\n",
    "num_even_list = list(filter(lambda x: x%2==0,list(filter(lambda x: x%5==0,num_list))))\n",
    "num_odd_list = list(filter(lambda x: x%2!=0,list(filter(lambda x: x%5==0,num_list))))\n",
    "\n",
    "print(\"Output:\")\n",
    "print(\"List of numbers: \",num_list)\n",
    "print(\"List of even numbers which are multiples of 5 are: \", num_even_list)\n",
    "print(\"List of odd numbers which are multiples of 5 are: \", num_odd_list)"
   ]
  },
  {
   "cell_type": "markdown",
   "metadata": {},
   "source": [
    "Q 2 Implement List comprehensions to produce the following lists.\n",
    "\n",
    "Write List comprehensions to produce the following lists.\n",
    "\n",
    "['x','xx','xxx','xxxx','y','yy','yyy','yyyy','z','zz','zzz','zzzz']\n",
    "\n",
    "['x','y','z','xx','yy','zz','xxx','yyy','zzz','xxxx','yyyy','zzzz']\n",
    "\n",
    "[[2],[3],[4],[3],[4],[5],[4],[5],[6]]\n",
    "\n",
    "[2,3,4,5], [3,4,5,6], [4,5,6,7], [5,6,7,8]\n",
    "\n",
    "[(1,1), (2,1), (3,1), (1,2), (2,2), (3,2), (1,3), (2,3), (3,3)]\n"
   ]
  },
  {
   "cell_type": "code",
   "execution_count": 17,
   "metadata": {},
   "outputs": [
    {
     "name": "stdout",
     "output_type": "stream",
     "text": [
      "First List:\n",
      "['x', 'xx', 'xxx', 'xxxx', 'y', 'yy', 'yyy', 'yyyy', 'z', 'zz', 'zzz', 'zzzz']\n",
      "Second List:\n",
      "['x', 'y', 'z', 'xx', 'yy', 'zz', 'xxx', 'yyy', 'zzz', 'xxxx', 'yyyy', 'zzzz']\n",
      "Third List:\n",
      "[[2], [3], [4], [3], [4], [5], [4], [5], [6]]\n",
      "Fourth List:\n",
      "[[2, 3, 4, 5], [3, 4, 5, 6], [4, 5, 6, 7], [5, 6, 7, 8]]\n",
      "Fifth List:\n",
      "[(1, 1), (2, 1), (3, 1), (1, 2), (2, 2), (3, 2), (1, 3), (2, 3), (3, 3)]\n"
     ]
    }
   ],
   "source": [
    "# Solution\n",
    "\n",
    "#First List\n",
    "word_1 = list('xyz')\n",
    "word_2 = [x*n for x in word_1 for n in range(1,5)]\n",
    "print(\"First List:\")\n",
    "print(word_2)\n",
    "\n",
    "#Second List\n",
    "word_3 = [x*n for n in range(1,5) for x in word_1]\n",
    "print(\"Second List:\")\n",
    "print(word_3)\n",
    "\n",
    "#Third List\n",
    "number = [2,3,4]\n",
    "number_1 = [[x+n] for x in number for n in range(0,3)]\n",
    "print(\"Third List:\")\n",
    "print(number_1)\n",
    "\n",
    "#Fourth List\n",
    "number_2 = [2,3,4,5]\n",
    "number_3 = [[x+n for n in range(0,4)] for x in number_2]\n",
    "print(\"Fourth List:\")\n",
    "print(number_3)\n",
    "\n",
    "#Fifth List\n",
    "number_4 = [1,2,3]\n",
    "number_5 = [(b,a) for a in number_4 for b in number_4]\n",
    "print(\"Fifth List:\")\n",
    "print(number_5)\n"
   ]
  },
  {
   "cell_type": "code",
   "execution_count": null,
   "metadata": {},
   "outputs": [],
   "source": []
  }
 ],
 "metadata": {
  "kernelspec": {
   "display_name": "Python 3",
   "language": "python",
   "name": "python3"
  },
  "language_info": {
   "codemirror_mode": {
    "name": "ipython",
    "version": 3
   },
   "file_extension": ".py",
   "mimetype": "text/x-python",
   "name": "python",
   "nbconvert_exporter": "python",
   "pygments_lexer": "ipython3",
   "version": "3.7.4"
  }
 },
 "nbformat": 4,
 "nbformat_minor": 2
}
